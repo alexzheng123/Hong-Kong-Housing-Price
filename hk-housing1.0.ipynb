{
 "cells": [
  {
   "cell_type": "code",
   "execution_count": 1,
   "metadata": {},
   "outputs": [],
   "source": [
    "import pandas as pd"
   ]
  },
  {
   "cell_type": "code",
   "execution_count": 2,
   "metadata": {},
   "outputs": [],
   "source": [
    "df = pd.read_csv(\"data/hk-centaline-property-buy.csv\")"
   ]
  },
  {
   "cell_type": "code",
   "execution_count": 3,
   "metadata": {},
   "outputs": [
    {
     "name": "stdout",
     "output_type": "stream",
     "text": [
      "(10000, 9)\n"
     ]
    }
   ],
   "source": [
    "print(df.shape)"
   ]
  },
  {
   "cell_type": "code",
   "execution_count": 4,
   "metadata": {},
   "outputs": [
    {
     "name": "stdout",
     "output_type": "stream",
     "text": [
      "<class 'pandas.core.frame.DataFrame'>\n",
      "RangeIndex: 10000 entries, 0 to 9999\n",
      "Data columns (total 9 columns):\n",
      " #   Column            Non-Null Count  Dtype  \n",
      "---  ------            --------------  -----  \n",
      " 0   name              10000 non-null  object \n",
      " 1   room_numbers      9985 non-null   object \n",
      " 2   address           9996 non-null   object \n",
      " 3   price             10000 non-null  object \n",
      " 4   usable_area       10000 non-null  object \n",
      " 5   gross_floor_area  6158 non-null   object \n",
      " 6   url               10000 non-null  object \n",
      " 7   latitude          8591 non-null   float64\n",
      " 8   longitude         8591 non-null   float64\n",
      "dtypes: float64(2), object(7)\n",
      "memory usage: 703.3+ KB\n"
     ]
    }
   ],
   "source": [
    "df.info()"
   ]
  },
  {
   "cell_type": "code",
   "execution_count": 5,
   "metadata": {},
   "outputs": [
    {
     "data": {
      "text/html": [
       "<div>\n",
       "<style scoped>\n",
       "    .dataframe tbody tr th:only-of-type {\n",
       "        vertical-align: middle;\n",
       "    }\n",
       "\n",
       "    .dataframe tbody tr th {\n",
       "        vertical-align: top;\n",
       "    }\n",
       "\n",
       "    .dataframe thead th {\n",
       "        text-align: right;\n",
       "    }\n",
       "</style>\n",
       "<table border=\"1\" class=\"dataframe\">\n",
       "  <thead>\n",
       "    <tr style=\"text-align: right;\">\n",
       "      <th></th>\n",
       "      <th>name</th>\n",
       "      <th>room_numbers</th>\n",
       "      <th>address</th>\n",
       "      <th>price</th>\n",
       "      <th>usable_area</th>\n",
       "      <th>gross_floor_area</th>\n",
       "      <th>url</th>\n",
       "      <th>latitude</th>\n",
       "      <th>longitude</th>\n",
       "    </tr>\n",
       "  </thead>\n",
       "  <tbody>\n",
       "    <tr>\n",
       "      <th>0</th>\n",
       "      <td>NOVO LAND・PHASE 2A・CHARLOT TOWER 1B</td>\n",
       "      <td>1 Room・(1 Suite)</td>\n",
       "      <td>Siu Hong</td>\n",
       "      <td>3.4M</td>\n",
       "      <td>293ft²</td>\n",
       "      <td>NaN</td>\n",
       "      <td>https://hk.centanet.com/findproperty/en/detail...</td>\n",
       "      <td>22.411753</td>\n",
       "      <td>113.978996</td>\n",
       "    </tr>\n",
       "    <tr>\n",
       "      <th>1</th>\n",
       "      <td>BELVEDERE GARDEN・Phase 3・BLOCK 3</td>\n",
       "      <td>High Floor・FLAT A・3 Rooms・(1 Suite)</td>\n",
       "      <td>Belvedere</td>\n",
       "      <td>7.2M</td>\n",
       "      <td>728ft²</td>\n",
       "      <td>846ft²</td>\n",
       "      <td>https://hk.centanet.com/findproperty/en/detail...</td>\n",
       "      <td>NaN</td>\n",
       "      <td>NaN</td>\n",
       "    </tr>\n",
       "    <tr>\n",
       "      <th>2</th>\n",
       "      <td>PARK ISLAND・PHASE 1・BLOCK 9</td>\n",
       "      <td>2 Rooms</td>\n",
       "      <td>Ma Wan</td>\n",
       "      <td>5.38M</td>\n",
       "      <td>537ft²</td>\n",
       "      <td>706ft²</td>\n",
       "      <td>https://hk.centanet.com/findproperty/en/detail...</td>\n",
       "      <td>22.350075</td>\n",
       "      <td>114.059207</td>\n",
       "    </tr>\n",
       "    <tr>\n",
       "      <th>3</th>\n",
       "      <td>LUK YEUNG SUN CHUEN・BLOCK P</td>\n",
       "      <td>FLAT 6・2 Rooms</td>\n",
       "      <td>Luk Yeung</td>\n",
       "      <td>5.6M</td>\n",
       "      <td>445ft²</td>\n",
       "      <td>511ft²</td>\n",
       "      <td>https://hk.centanet.com/findproperty/en/detail...</td>\n",
       "      <td>NaN</td>\n",
       "      <td>NaN</td>\n",
       "    </tr>\n",
       "    <tr>\n",
       "      <th>4</th>\n",
       "      <td>Tsuen Wan Centre・Block 15 (Kunming House)</td>\n",
       "      <td>Low Floor・FLAT H・2 Rooms</td>\n",
       "      <td>Tsuen King Circuit</td>\n",
       "      <td>3.38M</td>\n",
       "      <td>374ft²</td>\n",
       "      <td>490ft²</td>\n",
       "      <td>https://hk.centanet.com/findproperty/en/detail...</td>\n",
       "      <td>22.376582</td>\n",
       "      <td>114.107233</td>\n",
       "    </tr>\n",
       "  </tbody>\n",
       "</table>\n",
       "</div>"
      ],
      "text/plain": [
       "                                        name  \\\n",
       "0        NOVO LAND・PHASE 2A・CHARLOT TOWER 1B   \n",
       "1           BELVEDERE GARDEN・Phase 3・BLOCK 3   \n",
       "2                PARK ISLAND・PHASE 1・BLOCK 9   \n",
       "3                LUK YEUNG SUN CHUEN・BLOCK P   \n",
       "4  Tsuen Wan Centre・Block 15 (Kunming House)   \n",
       "\n",
       "                          room_numbers             address  price usable_area  \\\n",
       "0                     1 Room・(1 Suite)            Siu Hong   3.4M      293ft²   \n",
       "1  High Floor・FLAT A・3 Rooms・(1 Suite)           Belvedere   7.2M      728ft²   \n",
       "2                              2 Rooms              Ma Wan  5.38M      537ft²   \n",
       "3                       FLAT 6・2 Rooms           Luk Yeung   5.6M      445ft²   \n",
       "4             Low Floor・FLAT H・2 Rooms  Tsuen King Circuit  3.38M      374ft²   \n",
       "\n",
       "  gross_floor_area                                                url  \\\n",
       "0              NaN  https://hk.centanet.com/findproperty/en/detail...   \n",
       "1           846ft²  https://hk.centanet.com/findproperty/en/detail...   \n",
       "2           706ft²  https://hk.centanet.com/findproperty/en/detail...   \n",
       "3           511ft²  https://hk.centanet.com/findproperty/en/detail...   \n",
       "4           490ft²  https://hk.centanet.com/findproperty/en/detail...   \n",
       "\n",
       "    latitude   longitude  \n",
       "0  22.411753  113.978996  \n",
       "1        NaN         NaN  \n",
       "2  22.350075  114.059207  \n",
       "3        NaN         NaN  \n",
       "4  22.376582  114.107233  "
      ]
     },
     "execution_count": 5,
     "metadata": {},
     "output_type": "execute_result"
    }
   ],
   "source": [
    "df.head()"
   ]
  },
  {
   "cell_type": "code",
   "execution_count": 6,
   "metadata": {},
   "outputs": [
    {
     "name": "stdout",
     "output_type": "stream",
     "text": [
      "Series([], Name: price, dtype: object)\n",
      "                                                  name    room_numbers  \\\n",
      "5382  CHUK YUEN NORTH ESTATE・WAI YUEN HOUSE (BLOCK 10)  FLAT 5A・Studio   \n",
      "\n",
      "           address    price usable_area gross_floor_area  \\\n",
      "5382  Wong Tai Sin  950,000      149ft²              NaN   \n",
      "\n",
      "                                                    url   latitude  longitude  \n",
      "5382  https://hk.centanet.com/findproperty/en/detail...  22.354812  114.19744  \n",
      "<class 'pandas.core.frame.DataFrame'>\n"
     ]
    }
   ],
   "source": [
    "# Check if there is Billion unit in the price column \n",
    "contains_B = df[\"price\"].str.contains(\"B\")\n",
    "print(df[\"price\"][contains_B])\n",
    "\n",
    "# Check if every value has \"M\" in price column \n",
    "df[\"price\"].str.contains(\"M\").all()\n",
    "\n",
    "# Filter and print values without \"M\"\n",
    "without_M = df[~df[\"price\"].str.contains(\"M\")]\n",
    "print(without_M)\n",
    "print(type(without_M))"
   ]
  },
  {
   "cell_type": "code",
   "execution_count": 7,
   "metadata": {},
   "outputs": [
    {
     "data": {
      "text/plain": [
       "'https://hk.centanet.com/findproperty/en/detail/CHUK-YUEN-NORTH-ESTATE-WAI-YUEN-HOUSE-(BLOCK-10)_UKA799?theme=buy'"
      ]
     },
     "execution_count": 7,
     "metadata": {},
     "output_type": "execute_result"
    }
   ],
   "source": [
    "# Get the url of the hkd 950,000 house page\n",
    "df.loc[5382,\"url\"]"
   ]
  },
  {
   "cell_type": "code",
   "execution_count": 8,
   "metadata": {},
   "outputs": [
    {
     "data": {
      "text/plain": [
       "name                 CHUK YUEN NORTH ESTATE・WAI YUEN HOUSE (BLOCK 10)\n",
       "room_numbers                                           FLAT 5A・Studio\n",
       "address                                                  Wong Tai Sin\n",
       "price                                                           0.95M\n",
       "usable_area                                                    149ft²\n",
       "gross_floor_area                                                  NaN\n",
       "url                 https://hk.centanet.com/findproperty/en/detail...\n",
       "latitude                                                    22.354812\n",
       "longitude                                                   114.19744\n",
       "Name: 5382, dtype: object"
      ]
     },
     "execution_count": 8,
     "metadata": {},
     "output_type": "execute_result"
    }
   ],
   "source": [
    "# Change 950,000 into 0.95M \n",
    "df.loc[5382,\"price\"] = \"0.95M\"\n",
    "df.loc[5382,:]"
   ]
  },
  {
   "cell_type": "code",
   "execution_count": 9,
   "metadata": {},
   "outputs": [],
   "source": [
    "# Remove \"M\" and \",\" in the price column and turn into float \n",
    "df[\"price\"] = df[\"price\"].str.replace(\",\", \"\").str.replace(\"M\", \"\").astype(float)"
   ]
  },
  {
   "cell_type": "code",
   "execution_count": 10,
   "metadata": {},
   "outputs": [],
   "source": [
    "# Convert the price back to millions \n",
    "df[\"price\"] = df[\"price\"] * 1e6"
   ]
  },
  {
   "cell_type": "code",
   "execution_count": 11,
   "metadata": {},
   "outputs": [],
   "source": [
    "# Remove \"ft²\" from \"usable_area\" and \"gross_floor_area\"\n",
    "df[\"usable_area\"] = (df[\"usable_area\"]\n",
    "                     .str.replace(\"ft²\", \"\")\n",
    "                     .str.replace(\",\", \"\")\n",
    "                     .astype(float))\n",
    "df[\"gross_floor_area\"] = (df[\"gross_floor_area\"]\n",
    "                          .str.replace(\"ft²\", \"\")\n",
    "                          .str.replace(\",\", \"\")\n",
    "                          .astype(float))"
   ]
  },
  {
   "cell_type": "code",
   "execution_count": 12,
   "metadata": {},
   "outputs": [],
   "source": [
    "# Create a \"price_per_sq_foot\" column \n",
    "df[\"price_per_sq_foot_SA\"] = df[\"price\"] / df[\"usable_area\"]\n",
    "df[\"price_per_sq_foot_GFA\"] = df[\"price\"] / df[\"gross_floor_area\"]"
   ]
  },
  {
   "cell_type": "code",
   "execution_count": 13,
   "metadata": {},
   "outputs": [
    {
     "data": {
      "text/plain": [
       "name                      CHUK YUEN NORTH ESTATE・WAI YUEN HOUSE (BLOCK 10)\n",
       "room_numbers                                                FLAT 5A・Studio\n",
       "address                                                       Wong Tai Sin\n",
       "price                                                             950000.0\n",
       "usable_area                                                          149.0\n",
       "gross_floor_area                                                       NaN\n",
       "url                      https://hk.centanet.com/findproperty/en/detail...\n",
       "latitude                                                         22.354812\n",
       "longitude                                                        114.19744\n",
       "price_per_sq_foot_SA                                           6375.838926\n",
       "price_per_sq_foot_GFA                                                  NaN\n",
       "Name: 5382, dtype: object"
      ]
     },
     "execution_count": 13,
     "metadata": {},
     "output_type": "execute_result"
    }
   ],
   "source": [
    "df.iloc[5382,:]"
   ]
  },
  {
   "cell_type": "code",
   "execution_count": 14,
   "metadata": {},
   "outputs": [],
   "source": [
    "# Sort df by price per square foot using S.A. in ascending order, in case of ties, sort by per GFA \n",
    "# Reset the row index \n",
    "df = df.sort_values(by = [\"price_per_sq_foot_SA\", \"price_per_sq_foot_GFA\"], ascending=True).reset_index(drop=True)"
   ]
  },
  {
   "cell_type": "code",
   "execution_count": 15,
   "metadata": {},
   "outputs": [
    {
     "name": "stdout",
     "output_type": "stream",
     "text": [
      "<class 'pandas.core.frame.DataFrame'>\n",
      "RangeIndex: 10000 entries, 0 to 9999\n",
      "Data columns (total 11 columns):\n",
      " #   Column                 Non-Null Count  Dtype  \n",
      "---  ------                 --------------  -----  \n",
      " 0   name                   10000 non-null  object \n",
      " 1   room_numbers           9985 non-null   object \n",
      " 2   address                9996 non-null   object \n",
      " 3   price                  10000 non-null  float64\n",
      " 4   usable_area            10000 non-null  float64\n",
      " 5   gross_floor_area       6158 non-null   float64\n",
      " 6   url                    10000 non-null  object \n",
      " 7   latitude               8591 non-null   float64\n",
      " 8   longitude              8591 non-null   float64\n",
      " 9   price_per_sq_foot_SA   10000 non-null  float64\n",
      " 10  price_per_sq_foot_GFA  6158 non-null   float64\n",
      "dtypes: float64(7), object(4)\n",
      "memory usage: 859.5+ KB\n"
     ]
    }
   ],
   "source": [
    "df.info()"
   ]
  },
  {
   "cell_type": "code",
   "execution_count": 16,
   "metadata": {},
   "outputs": [
    {
     "name": "stdout",
     "output_type": "stream",
     "text": [
      "The most expensive per square foot house url: https://hk.centanet.com/findproperty/en/detail/BEL-AIR-RISE_TLA343?theme=buy\n",
      "The least expensive per square foot house url: https://hk.centanet.com/findproperty/en/detail/KING-LAM-ESTATE-KING-LUI-HOUSE-(BLOCK-2)_UDU107?theme=buy\n"
     ]
    }
   ],
   "source": [
    "# Most expensive per square foot house url: \n",
    "print(f\"The most expensive per square foot house url: {df.loc[9999,\"url\"]}\")\n",
    "\n",
    "# Least expensive per square foot house url:\n",
    "print(f\"The least expensive per square foot house url: {df.loc[0,\"url\"]}\")"
   ]
  },
  {
   "cell_type": "markdown",
   "metadata": {},
   "source": [
    "### Convert address into Lat and Long using Google Geocoding "
   ]
  },
  {
   "cell_type": "code",
   "execution_count": 17,
   "metadata": {},
   "outputs": [],
   "source": [
    "# ! pip install requests"
   ]
  },
  {
   "cell_type": "code",
   "execution_count": 18,
   "metadata": {},
   "outputs": [],
   "source": [
    "# import requests\n",
    "# import pandas as pd\n",
    "# import os\n",
    "\n",
    "# # Import the API key\n",
    "# from dotenv import load_dotenv\n",
    "\n",
    "# def configure():\n",
    "#     load_dotenv()\n",
    "\n",
    "# api_key = os.getenv('api_key')\n",
    "\n",
    "# # Load address data\n",
    "# df = pd.read_csv('data/hk-centaline-property-buy.csv')  \n",
    "# address = df['address']  \n",
    "\n",
    "# # Function to get lat and long for an address\n",
    "# def geocode_address(address, api_key):\n",
    "#     configure() # Call the `configure` function to get my API\n",
    "\n",
    "#     base_url = 'https://maps.googleapis.com/maps/api/geocode/json'\n",
    "#     params = {'address': address, 'key': api_key}\n",
    "#     response = requests.get(base_url, params=params)\n",
    "#     results = response.json().get('results', [])\n",
    "#     if results:\n",
    "#         location = results[0]['geometry']['location']\n",
    "#         return location['lat'], location['lng']\n",
    "#     else:\n",
    "#         return None, None\n",
    "\n",
    "# # Add lat and long columns to your DataFrame\n",
    "# df['latitude'], df['longitude'] = zip(*df['address'].apply(lambda x: geocode_address(x, api_key)))\n",
    "\n",
    "# # Save the updated DataFrame to a new CSV file\n",
    "# df.to_csv('address_with_lat_long.csv', index=False)\n"
   ]
  },
  {
   "cell_type": "code",
   "execution_count": 19,
   "metadata": {},
   "outputs": [
    {
     "data": {
      "text/html": [
       "<div>\n",
       "<style scoped>\n",
       "    .dataframe tbody tr th:only-of-type {\n",
       "        vertical-align: middle;\n",
       "    }\n",
       "\n",
       "    .dataframe tbody tr th {\n",
       "        vertical-align: top;\n",
       "    }\n",
       "\n",
       "    .dataframe thead th {\n",
       "        text-align: right;\n",
       "    }\n",
       "</style>\n",
       "<table border=\"1\" class=\"dataframe\">\n",
       "  <thead>\n",
       "    <tr style=\"text-align: right;\">\n",
       "      <th></th>\n",
       "      <th>name</th>\n",
       "      <th>room_numbers</th>\n",
       "      <th>address</th>\n",
       "      <th>price</th>\n",
       "      <th>usable_area</th>\n",
       "      <th>gross_floor_area</th>\n",
       "      <th>url</th>\n",
       "      <th>latitude</th>\n",
       "      <th>longitude</th>\n",
       "      <th>price_per_sq_foot_SA</th>\n",
       "      <th>price_per_sq_foot_GFA</th>\n",
       "    </tr>\n",
       "  </thead>\n",
       "  <tbody>\n",
       "    <tr>\n",
       "      <th>9995</th>\n",
       "      <td>The Arch・SUN TOWER (BLOCK 1A)</td>\n",
       "      <td>High Floor・FLAT B・4 Rooms・(2 Suites)</td>\n",
       "      <td>Kowloon Station</td>\n",
       "      <td>135000000.0</td>\n",
       "      <td>1842.0</td>\n",
       "      <td>2316.0</td>\n",
       "      <td>https://hk.centanet.com/findproperty/en/detail...</td>\n",
       "      <td>22.304306</td>\n",
       "      <td>114.161475</td>\n",
       "      <td>73289.902280</td>\n",
       "      <td>58290.155440</td>\n",
       "    </tr>\n",
       "    <tr>\n",
       "      <th>9996</th>\n",
       "      <td>RESIDENCE BEL-AIR・PHASE 1・TOWER 2</td>\n",
       "      <td>High Floor・FLAT B・4 Rooms</td>\n",
       "      <td>Residence Bel-air</td>\n",
       "      <td>175000000.0</td>\n",
       "      <td>2303.0</td>\n",
       "      <td>2748.0</td>\n",
       "      <td>https://hk.centanet.com/findproperty/en/detail...</td>\n",
       "      <td>22.254545</td>\n",
       "      <td>114.132685</td>\n",
       "      <td>75987.841945</td>\n",
       "      <td>63682.678311</td>\n",
       "    </tr>\n",
       "    <tr>\n",
       "      <th>9997</th>\n",
       "      <td>Infinity</td>\n",
       "      <td>3 Rooms</td>\n",
       "      <td>Peak</td>\n",
       "      <td>180000000.0</td>\n",
       "      <td>2061.0</td>\n",
       "      <td>2980.0</td>\n",
       "      <td>https://hk.centanet.com/findproperty/en/detail...</td>\n",
       "      <td>NaN</td>\n",
       "      <td>NaN</td>\n",
       "      <td>87336.244541</td>\n",
       "      <td>60402.684564</td>\n",
       "    </tr>\n",
       "    <tr>\n",
       "      <th>9998</th>\n",
       "      <td>Regence Royale・TOWER 2</td>\n",
       "      <td>Middle Floor・FLAT B・4 Rooms・(1 Suite)</td>\n",
       "      <td>Mid-Levels Central</td>\n",
       "      <td>168000000.0</td>\n",
       "      <td>1805.0</td>\n",
       "      <td>2522.0</td>\n",
       "      <td>https://hk.centanet.com/findproperty/en/detail...</td>\n",
       "      <td>22.283846</td>\n",
       "      <td>114.154969</td>\n",
       "      <td>93074.792244</td>\n",
       "      <td>66613.798573</td>\n",
       "    </tr>\n",
       "    <tr>\n",
       "      <th>9999</th>\n",
       "      <td>BEL-AIR RISE</td>\n",
       "      <td>HOUSE 9・4 Rooms</td>\n",
       "      <td>Residence Bel-air</td>\n",
       "      <td>460000000.0</td>\n",
       "      <td>4667.0</td>\n",
       "      <td>6562.0</td>\n",
       "      <td>https://hk.centanet.com/findproperty/en/detail...</td>\n",
       "      <td>22.254545</td>\n",
       "      <td>114.132685</td>\n",
       "      <td>98564.388258</td>\n",
       "      <td>70100.579092</td>\n",
       "    </tr>\n",
       "  </tbody>\n",
       "</table>\n",
       "</div>"
      ],
      "text/plain": [
       "                                   name  \\\n",
       "9995      The Arch・SUN TOWER (BLOCK 1A)   \n",
       "9996  RESIDENCE BEL-AIR・PHASE 1・TOWER 2   \n",
       "9997                           Infinity   \n",
       "9998             Regence Royale・TOWER 2   \n",
       "9999                       BEL-AIR RISE   \n",
       "\n",
       "                               room_numbers             address        price  \\\n",
       "9995   High Floor・FLAT B・4 Rooms・(2 Suites)     Kowloon Station  135000000.0   \n",
       "9996              High Floor・FLAT B・4 Rooms   Residence Bel-air  175000000.0   \n",
       "9997                                3 Rooms                Peak  180000000.0   \n",
       "9998  Middle Floor・FLAT B・4 Rooms・(1 Suite)  Mid-Levels Central  168000000.0   \n",
       "9999                        HOUSE 9・4 Rooms   Residence Bel-air  460000000.0   \n",
       "\n",
       "      usable_area  gross_floor_area  \\\n",
       "9995       1842.0            2316.0   \n",
       "9996       2303.0            2748.0   \n",
       "9997       2061.0            2980.0   \n",
       "9998       1805.0            2522.0   \n",
       "9999       4667.0            6562.0   \n",
       "\n",
       "                                                    url   latitude  \\\n",
       "9995  https://hk.centanet.com/findproperty/en/detail...  22.304306   \n",
       "9996  https://hk.centanet.com/findproperty/en/detail...  22.254545   \n",
       "9997  https://hk.centanet.com/findproperty/en/detail...        NaN   \n",
       "9998  https://hk.centanet.com/findproperty/en/detail...  22.283846   \n",
       "9999  https://hk.centanet.com/findproperty/en/detail...  22.254545   \n",
       "\n",
       "       longitude  price_per_sq_foot_SA  price_per_sq_foot_GFA  \n",
       "9995  114.161475          73289.902280           58290.155440  \n",
       "9996  114.132685          75987.841945           63682.678311  \n",
       "9997         NaN          87336.244541           60402.684564  \n",
       "9998  114.154969          93074.792244           66613.798573  \n",
       "9999  114.132685          98564.388258           70100.579092  "
      ]
     },
     "execution_count": 19,
     "metadata": {},
     "output_type": "execute_result"
    }
   ],
   "source": [
    "df.tail()"
   ]
  },
  {
   "cell_type": "code",
   "execution_count": 20,
   "metadata": {},
   "outputs": [
    {
     "data": {
      "text/html": [
       "<div>\n",
       "<style scoped>\n",
       "    .dataframe tbody tr th:only-of-type {\n",
       "        vertical-align: middle;\n",
       "    }\n",
       "\n",
       "    .dataframe tbody tr th {\n",
       "        vertical-align: top;\n",
       "    }\n",
       "\n",
       "    .dataframe thead th {\n",
       "        text-align: right;\n",
       "    }\n",
       "</style>\n",
       "<table border=\"1\" class=\"dataframe\">\n",
       "  <thead>\n",
       "    <tr style=\"text-align: right;\">\n",
       "      <th></th>\n",
       "      <th>name</th>\n",
       "      <th>room_numbers</th>\n",
       "      <th>address</th>\n",
       "      <th>price</th>\n",
       "      <th>usable_area</th>\n",
       "      <th>gross_floor_area</th>\n",
       "      <th>url</th>\n",
       "      <th>latitude</th>\n",
       "      <th>longitude</th>\n",
       "      <th>price_per_sq_foot_SA</th>\n",
       "      <th>price_per_sq_foot_GFA</th>\n",
       "    </tr>\n",
       "  </thead>\n",
       "  <tbody>\n",
       "    <tr>\n",
       "      <th>0</th>\n",
       "      <td>KING LAM ESTATE・KING LUI HOUSE (BLOCK 2)</td>\n",
       "      <td>Low Floor・FLAT 21・1 Room</td>\n",
       "      <td>Po Lam</td>\n",
       "      <td>1400000.0</td>\n",
       "      <td>349.0</td>\n",
       "      <td>NaN</td>\n",
       "      <td>https://hk.centanet.com/findproperty/en/detail...</td>\n",
       "      <td>22.323713</td>\n",
       "      <td>114.254880</td>\n",
       "      <td>4011.461318</td>\n",
       "      <td>NaN</td>\n",
       "    </tr>\n",
       "    <tr>\n",
       "      <th>1</th>\n",
       "      <td>TAK TIN ESTATE・TAK YEE HOUSE (BLOCK 3)</td>\n",
       "      <td>(1 Suite)</td>\n",
       "      <td>Lam Tin</td>\n",
       "      <td>1800000.0</td>\n",
       "      <td>443.0</td>\n",
       "      <td>NaN</td>\n",
       "      <td>https://hk.centanet.com/findproperty/en/detail...</td>\n",
       "      <td>22.308020</td>\n",
       "      <td>114.237564</td>\n",
       "      <td>4063.205418</td>\n",
       "      <td>NaN</td>\n",
       "    </tr>\n",
       "    <tr>\n",
       "      <th>2</th>\n",
       "      <td>FU SHIN ESTATE・SHIN KWAN HOUSE (BLOCK 1)</td>\n",
       "      <td>1 Room</td>\n",
       "      <td>Tai Po Town Centre</td>\n",
       "      <td>1200000.0</td>\n",
       "      <td>294.0</td>\n",
       "      <td>NaN</td>\n",
       "      <td>https://hk.centanet.com/findproperty/en/detail...</td>\n",
       "      <td>22.442322</td>\n",
       "      <td>114.165506</td>\n",
       "      <td>4081.632653</td>\n",
       "      <td>NaN</td>\n",
       "    </tr>\n",
       "    <tr>\n",
       "      <th>3</th>\n",
       "      <td>Long Ping Estate・HOR PING HOUSE</td>\n",
       "      <td>Low Floor・FLAT 35・2 Rooms</td>\n",
       "      <td>Long Ping</td>\n",
       "      <td>1480000.0</td>\n",
       "      <td>355.0</td>\n",
       "      <td>NaN</td>\n",
       "      <td>https://hk.centanet.com/findproperty/en/detail...</td>\n",
       "      <td>NaN</td>\n",
       "      <td>NaN</td>\n",
       "      <td>4169.014085</td>\n",
       "      <td>NaN</td>\n",
       "    </tr>\n",
       "    <tr>\n",
       "      <th>4</th>\n",
       "      <td>TAI WO ESTATE・OI WO HOUSE (BLOCK 2)</td>\n",
       "      <td>Studio</td>\n",
       "      <td>Tai Po Town Centre</td>\n",
       "      <td>1480000.0</td>\n",
       "      <td>349.0</td>\n",
       "      <td>NaN</td>\n",
       "      <td>https://hk.centanet.com/findproperty/en/detail...</td>\n",
       "      <td>22.442322</td>\n",
       "      <td>114.165506</td>\n",
       "      <td>4240.687679</td>\n",
       "      <td>NaN</td>\n",
       "    </tr>\n",
       "  </tbody>\n",
       "</table>\n",
       "</div>"
      ],
      "text/plain": [
       "                                       name               room_numbers  \\\n",
       "0  KING LAM ESTATE・KING LUI HOUSE (BLOCK 2)   Low Floor・FLAT 21・1 Room   \n",
       "1    TAK TIN ESTATE・TAK YEE HOUSE (BLOCK 3)                  (1 Suite)   \n",
       "2  FU SHIN ESTATE・SHIN KWAN HOUSE (BLOCK 1)                     1 Room   \n",
       "3           Long Ping Estate・HOR PING HOUSE  Low Floor・FLAT 35・2 Rooms   \n",
       "4       TAI WO ESTATE・OI WO HOUSE (BLOCK 2)                     Studio   \n",
       "\n",
       "              address      price  usable_area  gross_floor_area  \\\n",
       "0              Po Lam  1400000.0        349.0               NaN   \n",
       "1             Lam Tin  1800000.0        443.0               NaN   \n",
       "2  Tai Po Town Centre  1200000.0        294.0               NaN   \n",
       "3           Long Ping  1480000.0        355.0               NaN   \n",
       "4  Tai Po Town Centre  1480000.0        349.0               NaN   \n",
       "\n",
       "                                                 url   latitude   longitude  \\\n",
       "0  https://hk.centanet.com/findproperty/en/detail...  22.323713  114.254880   \n",
       "1  https://hk.centanet.com/findproperty/en/detail...  22.308020  114.237564   \n",
       "2  https://hk.centanet.com/findproperty/en/detail...  22.442322  114.165506   \n",
       "3  https://hk.centanet.com/findproperty/en/detail...        NaN         NaN   \n",
       "4  https://hk.centanet.com/findproperty/en/detail...  22.442322  114.165506   \n",
       "\n",
       "   price_per_sq_foot_SA  price_per_sq_foot_GFA  \n",
       "0           4011.461318                    NaN  \n",
       "1           4063.205418                    NaN  \n",
       "2           4081.632653                    NaN  \n",
       "3           4169.014085                    NaN  \n",
       "4           4240.687679                    NaN  "
      ]
     },
     "execution_count": 20,
     "metadata": {},
     "output_type": "execute_result"
    }
   ],
   "source": [
    "df.head()"
   ]
  }
 ],
 "metadata": {
  "kernelspec": {
   "display_name": "data_manipulation",
   "language": "python",
   "name": "python3"
  },
  "language_info": {
   "codemirror_mode": {
    "name": "ipython",
    "version": 3
   },
   "file_extension": ".py",
   "mimetype": "text/x-python",
   "name": "python",
   "nbconvert_exporter": "python",
   "pygments_lexer": "ipython3",
   "version": "3.12.4"
  }
 },
 "nbformat": 4,
 "nbformat_minor": 2
}
