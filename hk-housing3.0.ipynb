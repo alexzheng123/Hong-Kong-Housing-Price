{
 "cells": [
  {
   "cell_type": "markdown",
   "metadata": {},
   "source": [
    "## Data analysis"
   ]
  },
  {
   "cell_type": "code",
   "execution_count": 1,
   "metadata": {},
   "outputs": [],
   "source": [
    "import pandas as pd\n",
    "import matplotlib.pyplot as plt\n",
    "import plotly.express as px"
   ]
  },
  {
   "cell_type": "code",
   "execution_count": 2,
   "metadata": {},
   "outputs": [
    {
     "name": "stdout",
     "output_type": "stream",
     "text": [
      "<class 'pandas.core.frame.DataFrame'>\n",
      "(10000, 11)\n"
     ]
    },
    {
     "data": {
      "text/html": [
       "<div>\n",
       "<style scoped>\n",
       "    .dataframe tbody tr th:only-of-type {\n",
       "        vertical-align: middle;\n",
       "    }\n",
       "\n",
       "    .dataframe tbody tr th {\n",
       "        vertical-align: top;\n",
       "    }\n",
       "\n",
       "    .dataframe thead th {\n",
       "        text-align: right;\n",
       "    }\n",
       "</style>\n",
       "<table border=\"1\" class=\"dataframe\">\n",
       "  <thead>\n",
       "    <tr style=\"text-align: right;\">\n",
       "      <th></th>\n",
       "      <th>name</th>\n",
       "      <th>room_numbers</th>\n",
       "      <th>address</th>\n",
       "      <th>price</th>\n",
       "      <th>usable_area</th>\n",
       "      <th>gross_floor_area</th>\n",
       "      <th>url</th>\n",
       "      <th>latitude</th>\n",
       "      <th>longitude</th>\n",
       "      <th>price_per_sq_foot_SA</th>\n",
       "      <th>price_per_sq_foot_GFA</th>\n",
       "    </tr>\n",
       "  </thead>\n",
       "  <tbody>\n",
       "    <tr>\n",
       "      <th>0</th>\n",
       "      <td>KING LAM ESTATE・KING LUI HOUSE (BLOCK 2)</td>\n",
       "      <td>Low Floor・FLAT 21・1 Room</td>\n",
       "      <td>Po Lam</td>\n",
       "      <td>1400000.0</td>\n",
       "      <td>349.0</td>\n",
       "      <td>NaN</td>\n",
       "      <td>https://hk.centanet.com/findproperty/en/detail...</td>\n",
       "      <td>22.323713</td>\n",
       "      <td>114.254880</td>\n",
       "      <td>4011.461318</td>\n",
       "      <td>NaN</td>\n",
       "    </tr>\n",
       "    <tr>\n",
       "      <th>1</th>\n",
       "      <td>TAK TIN ESTATE・TAK YEE HOUSE (BLOCK 3)</td>\n",
       "      <td>(1 Suite)</td>\n",
       "      <td>Lam Tin</td>\n",
       "      <td>1800000.0</td>\n",
       "      <td>443.0</td>\n",
       "      <td>NaN</td>\n",
       "      <td>https://hk.centanet.com/findproperty/en/detail...</td>\n",
       "      <td>22.308020</td>\n",
       "      <td>114.237564</td>\n",
       "      <td>4063.205418</td>\n",
       "      <td>NaN</td>\n",
       "    </tr>\n",
       "    <tr>\n",
       "      <th>2</th>\n",
       "      <td>FU SHIN ESTATE・SHIN KWAN HOUSE (BLOCK 1)</td>\n",
       "      <td>1 Room</td>\n",
       "      <td>Tai Po Town Centre</td>\n",
       "      <td>1200000.0</td>\n",
       "      <td>294.0</td>\n",
       "      <td>NaN</td>\n",
       "      <td>https://hk.centanet.com/findproperty/en/detail...</td>\n",
       "      <td>22.442322</td>\n",
       "      <td>114.165506</td>\n",
       "      <td>4081.632653</td>\n",
       "      <td>NaN</td>\n",
       "    </tr>\n",
       "    <tr>\n",
       "      <th>3</th>\n",
       "      <td>Long Ping Estate・HOR PING HOUSE</td>\n",
       "      <td>Low Floor・FLAT 35・2 Rooms</td>\n",
       "      <td>Long Ping</td>\n",
       "      <td>1480000.0</td>\n",
       "      <td>355.0</td>\n",
       "      <td>NaN</td>\n",
       "      <td>https://hk.centanet.com/findproperty/en/detail...</td>\n",
       "      <td>NaN</td>\n",
       "      <td>NaN</td>\n",
       "      <td>4169.014085</td>\n",
       "      <td>NaN</td>\n",
       "    </tr>\n",
       "    <tr>\n",
       "      <th>4</th>\n",
       "      <td>TAI WO ESTATE・OI WO HOUSE (BLOCK 2)</td>\n",
       "      <td>Studio</td>\n",
       "      <td>Tai Po Town Centre</td>\n",
       "      <td>1480000.0</td>\n",
       "      <td>349.0</td>\n",
       "      <td>NaN</td>\n",
       "      <td>https://hk.centanet.com/findproperty/en/detail...</td>\n",
       "      <td>22.442322</td>\n",
       "      <td>114.165506</td>\n",
       "      <td>4240.687679</td>\n",
       "      <td>NaN</td>\n",
       "    </tr>\n",
       "  </tbody>\n",
       "</table>\n",
       "</div>"
      ],
      "text/plain": [
       "                                       name               room_numbers  \\\n",
       "0  KING LAM ESTATE・KING LUI HOUSE (BLOCK 2)   Low Floor・FLAT 21・1 Room   \n",
       "1    TAK TIN ESTATE・TAK YEE HOUSE (BLOCK 3)                  (1 Suite)   \n",
       "2  FU SHIN ESTATE・SHIN KWAN HOUSE (BLOCK 1)                     1 Room   \n",
       "3           Long Ping Estate・HOR PING HOUSE  Low Floor・FLAT 35・2 Rooms   \n",
       "4       TAI WO ESTATE・OI WO HOUSE (BLOCK 2)                     Studio   \n",
       "\n",
       "              address      price  usable_area  gross_floor_area  \\\n",
       "0              Po Lam  1400000.0        349.0               NaN   \n",
       "1             Lam Tin  1800000.0        443.0               NaN   \n",
       "2  Tai Po Town Centre  1200000.0        294.0               NaN   \n",
       "3           Long Ping  1480000.0        355.0               NaN   \n",
       "4  Tai Po Town Centre  1480000.0        349.0               NaN   \n",
       "\n",
       "                                                 url   latitude   longitude  \\\n",
       "0  https://hk.centanet.com/findproperty/en/detail...  22.323713  114.254880   \n",
       "1  https://hk.centanet.com/findproperty/en/detail...  22.308020  114.237564   \n",
       "2  https://hk.centanet.com/findproperty/en/detail...  22.442322  114.165506   \n",
       "3  https://hk.centanet.com/findproperty/en/detail...        NaN         NaN   \n",
       "4  https://hk.centanet.com/findproperty/en/detail...  22.442322  114.165506   \n",
       "\n",
       "   price_per_sq_foot_SA  price_per_sq_foot_GFA  \n",
       "0           4011.461318                    NaN  \n",
       "1           4063.205418                    NaN  \n",
       "2           4081.632653                    NaN  \n",
       "3           4169.014085                    NaN  \n",
       "4           4240.687679                    NaN  "
      ]
     },
     "execution_count": 2,
     "metadata": {},
     "output_type": "execute_result"
    }
   ],
   "source": [
    "df = pd.read_csv(\"data/hk-centaline-property-buy-clean.csv\")\n",
    "\n",
    "print(type(df))\n",
    "print(df.shape)\n",
    "df.head()"
   ]
  },
  {
   "cell_type": "markdown",
   "metadata": {},
   "source": [
    "### Scatter plot on a map"
   ]
  },
  {
   "cell_type": "code",
   "execution_count": 3,
   "metadata": {},
   "outputs": [
    {
     "name": "stdout",
     "output_type": "stream",
     "text": [
      "Requirement already satisfied: nbformat in /Users/alexzheng/opt/anaconda3/envs/data_manipulation/lib/python3.12/site-packages (5.10.4)\n",
      "Requirement already satisfied: fastjsonschema>=2.15 in /Users/alexzheng/opt/anaconda3/envs/data_manipulation/lib/python3.12/site-packages (from nbformat) (2.20.0)\n",
      "Requirement already satisfied: jsonschema>=2.6 in /Users/alexzheng/opt/anaconda3/envs/data_manipulation/lib/python3.12/site-packages (from nbformat) (4.23.0)\n",
      "Requirement already satisfied: jupyter-core!=5.0.*,>=4.12 in /Users/alexzheng/opt/anaconda3/envs/data_manipulation/lib/python3.12/site-packages (from nbformat) (5.7.2)\n",
      "Requirement already satisfied: traitlets>=5.1 in /Users/alexzheng/opt/anaconda3/envs/data_manipulation/lib/python3.12/site-packages (from nbformat) (5.14.3)\n",
      "Requirement already satisfied: attrs>=22.2.0 in /Users/alexzheng/opt/anaconda3/envs/data_manipulation/lib/python3.12/site-packages (from jsonschema>=2.6->nbformat) (23.2.0)\n",
      "Requirement already satisfied: jsonschema-specifications>=2023.03.6 in /Users/alexzheng/opt/anaconda3/envs/data_manipulation/lib/python3.12/site-packages (from jsonschema>=2.6->nbformat) (2023.12.1)\n",
      "Requirement already satisfied: referencing>=0.28.4 in /Users/alexzheng/opt/anaconda3/envs/data_manipulation/lib/python3.12/site-packages (from jsonschema>=2.6->nbformat) (0.35.1)\n",
      "Requirement already satisfied: rpds-py>=0.7.1 in /Users/alexzheng/opt/anaconda3/envs/data_manipulation/lib/python3.12/site-packages (from jsonschema>=2.6->nbformat) (0.19.0)\n",
      "Requirement already satisfied: platformdirs>=2.5 in /Users/alexzheng/opt/anaconda3/envs/data_manipulation/lib/python3.12/site-packages (from jupyter-core!=5.0.*,>=4.12->nbformat) (4.2.2)\n"
     ]
    }
   ],
   "source": [
    "! pip install nbformat"
   ]
  },
  {
   "cell_type": "code",
   "execution_count": 4,
   "metadata": {},
   "outputs": [],
   "source": [
    "# Use plotly express to create figure \n",
    "fig = px.scatter_mapbox(\n",
    "    df, \n",
    "    lat = \"latitude\",\n",
    "    lon = \"longitude\",\n",
    "    center = {\"lat\": 22.3193, \"lon\": 114.1694}, # Centered in Hong Kong \n",
    "    width = 600,\n",
    "    height = 600,\n",
    "    hover_data = [\"price_per_sq_foot_SA\"] # Display price when hovering mouse over house\n",
    ")\n",
    "\n",
    "# Add mapbox_style to figure layout\n",
    "fig.update_layout(mapbox_style=\"open-street-map\")\n",
    "\n",
    "# # Show figure\n",
    "# fig.show()\n",
    "\n",
    "# Save the figure as an HTML file\n",
    "fig.write_html(\"map_figure.html\")\n"
   ]
  },
  {
   "cell_type": "code",
   "execution_count": 5,
   "metadata": {},
   "outputs": [
    {
     "name": "stdout",
     "output_type": "stream",
     "text": [
      "address\n",
      "Mid-Levels West        420\n",
      "Tseung Kwan O          397\n",
      "Lohas Park             351\n",
      "Tsuen Wan West         281\n",
      "Tai Wai                275\n",
      "Pak Shek Kok           261\n",
      "Wu Kai Sha             256\n",
      "Kai Tak New Area       243\n",
      "Yuen Long Station      234\n",
      "Yuen Long Southeast    227\n",
      "Name: count, dtype: int64\n"
     ]
    },
    {
     "data": {
      "text/plain": [
       "161"
      ]
     },
     "execution_count": 5,
     "metadata": {},
     "output_type": "execute_result"
    }
   ],
   "source": [
    "# Get value counts of \"address\" column and use the value_counts method to determine the 10 most prevalent address in our dataset.\n",
    "counts = df[\"address\"].value_counts()\n",
    "print(counts.head(10))\n",
    "\n",
    "len(counts)"
   ]
  },
  {
   "cell_type": "code",
   "execution_count": 6,
   "metadata": {},
   "outputs": [
    {
     "data": {
      "text/html": [
       "<div>\n",
       "<style scoped>\n",
       "    .dataframe tbody tr th:only-of-type {\n",
       "        vertical-align: middle;\n",
       "    }\n",
       "\n",
       "    .dataframe tbody tr th {\n",
       "        vertical-align: top;\n",
       "    }\n",
       "\n",
       "    .dataframe thead th {\n",
       "        text-align: right;\n",
       "    }\n",
       "</style>\n",
       "<table border=\"1\" class=\"dataframe\">\n",
       "  <thead>\n",
       "    <tr style=\"text-align: right;\">\n",
       "      <th></th>\n",
       "      <th>usable_area</th>\n",
       "      <th>price_per_sq_foot_SA</th>\n",
       "    </tr>\n",
       "  </thead>\n",
       "  <tbody>\n",
       "    <tr>\n",
       "      <th>count</th>\n",
       "      <td>10000.000000</td>\n",
       "      <td>10000.000000</td>\n",
       "    </tr>\n",
       "    <tr>\n",
       "      <th>mean</th>\n",
       "      <td>667.412300</td>\n",
       "      <td>16457.146977</td>\n",
       "    </tr>\n",
       "    <tr>\n",
       "      <th>std</th>\n",
       "      <td>419.788599</td>\n",
       "      <td>6954.073687</td>\n",
       "    </tr>\n",
       "    <tr>\n",
       "      <th>min</th>\n",
       "      <td>125.000000</td>\n",
       "      <td>4011.461318</td>\n",
       "    </tr>\n",
       "    <tr>\n",
       "      <th>25%</th>\n",
       "      <td>428.000000</td>\n",
       "      <td>11862.224254</td>\n",
       "    </tr>\n",
       "    <tr>\n",
       "      <th>50%</th>\n",
       "      <td>538.000000</td>\n",
       "      <td>14926.899246</td>\n",
       "    </tr>\n",
       "    <tr>\n",
       "      <th>75%</th>\n",
       "      <td>769.000000</td>\n",
       "      <td>19097.452476</td>\n",
       "    </tr>\n",
       "    <tr>\n",
       "      <th>max</th>\n",
       "      <td>6890.000000</td>\n",
       "      <td>98564.388258</td>\n",
       "    </tr>\n",
       "  </tbody>\n",
       "</table>\n",
       "</div>"
      ],
      "text/plain": [
       "        usable_area  price_per_sq_foot_SA\n",
       "count  10000.000000          10000.000000\n",
       "mean     667.412300          16457.146977\n",
       "std      419.788599           6954.073687\n",
       "min      125.000000           4011.461318\n",
       "25%      428.000000          11862.224254\n",
       "50%      538.000000          14926.899246\n",
       "75%      769.000000          19097.452476\n",
       "max     6890.000000          98564.388258"
      ]
     },
     "execution_count": 6,
     "metadata": {},
     "output_type": "execute_result"
    }
   ],
   "source": [
    "# Describe area and price per area \n",
    "df[[\"usable_area\",\"price_per_sq_foot_SA\"]].describe()"
   ]
  },
  {
   "cell_type": "code",
   "execution_count": 7,
   "metadata": {},
   "outputs": [
    {
     "data": {
      "image/png": "[encoded data removed]",
      "text/plain": [
       "<Figure size 640x480 with 1 Axes>"
      ]
     },
     "metadata": {},
     "output_type": "display_data"
    }
   ],
   "source": [
    "# Use Matplotlib to create histogram of \"usable_area\"\n",
    "plt.hist(df[\"usable_area\"])\n",
    "plt.xlabel(\"Area [sq feet]\")\n",
    "plt.ylabel(\"Frequency\")\n",
    "plt.title(\"Distribution of Home Sizes\");"
   ]
  },
  {
   "cell_type": "code",
   "execution_count": 8,
   "metadata": {},
   "outputs": [
    {
     "data": {
      "image/png": "[encoded data removed]",
      "text/plain": [
       "<Figure size 640x480 with 1 Axes>"
      ]
     },
     "metadata": {},
     "output_type": "display_data"
    }
   ],
   "source": [
    "# Use Matplotlib to create boxplot of \"usable_area\"\n",
    "plt.boxplot(df[\"usable_area\"], vert=False)\n",
    "plt.xlabel(\"Area [sq feet]\")\n",
    "plt.title(\"Distribution of Home Sizes\");"
   ]
  },
  {
   "cell_type": "code",
   "execution_count": 9,
   "metadata": {},
   "outputs": [
    {
     "data": {
      "image/png": "[encoded data removed]",
      "text/plain": [
       "<Figure size 640x480 with 1 Axes>"
      ]
     },
     "metadata": {},
     "output_type": "display_data"
    }
   ],
   "source": [
    "# Use Matplotlib to create boxplot of price per area \n",
    "plt.boxplot(df[\"price_per_sq_foot_SA\"], vert=False)\n",
    "plt.xlabel(\"Price [HKD] per sq foot\")\n",
    "plt.title(\"Distribution of Home Prices Per Square Foot\");"
   ]
  }
 ],
 "metadata": {
  "kernelspec": {
   "display_name": "data_manipulation",
   "language": "python",
   "name": "python3"
  },
  "language_info": {
   "codemirror_mode": {
    "name": "ipython",
    "version": 3
   },
   "file_extension": ".py",
   "mimetype": "text/x-python",
   "name": "python",
   "nbconvert_exporter": "python",
   "pygments_lexer": "ipython3",
   "version": "3.12.4"
  }
 },
 "nbformat": 4,
 "nbformat_minor": 2
}
