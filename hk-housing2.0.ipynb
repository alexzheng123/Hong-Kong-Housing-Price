{
 "cells": [
  {
   "cell_type": "markdown",
   "metadata": {},
   "source": [
    "### Build a function to wrangle data"
   ]
  },
  {
   "cell_type": "code",
   "execution_count": 1,
   "metadata": {},
   "outputs": [],
   "source": [
    "import pandas as pd"
   ]
  },
  {
   "cell_type": "code",
   "execution_count": 2,
   "metadata": {},
   "outputs": [],
   "source": [
    "\n",
    "def wrangle(filepath):\n",
    "    # Import \n",
    "    df = pd.read_csv(filepath)\n",
    "\n",
    "    # Check if the price column contains \"B\"\n",
    "    contains_B = df[\"price\"].str.contains(\"B\")\n",
    "    if contains_B.any(): # Check if there's a True in the list \n",
    "        df.loc[contains_B, \"price\"] = (df.loc[contains_B, \"price\"].str.replace(\",\", \"\").str.replace(\"B\", \"\")).astype(float)*1000\n",
    "        df.loc[contains_B, \"price\"] = df.loc[contains_B, \"price\"].astype(str) + \"M\"\n",
    "    \n",
    "    # Check if the price column does not contain \"M\"\n",
    "    contains_M = df[\"price\"].str.contains(\"M\")\n",
    "    if not contains_M.all():\n",
    "        # Divide the values by 1 million, then add \"M\"\n",
    "        df.loc[~contains_M, \"price\"] = df.loc[~contains_M, \"price\"].str.replace(\",\", \"\").astype(float)/1e6\n",
    "        df.loc[~contains_M, \"price\"] = df.loc[~contains_M, \"price\"].astype(str) + \"M\"\n",
    "    \n",
    "    # Ensure all values in the price column are numeric \n",
    "    df[\"price\"] = df[\"price\"].str.replace(\"M\", \"\").str.replace(\",\", \"\").astype(float)\n",
    "\n",
    "    # Convert the price back to millions \n",
    "    df[\"price\"] = df[\"price\"] * 1e6\n",
    "\n",
    "    # Remove \"ft²\" and \",\" from \"usable_area\" and \"gross_floor_area\" and convert to float\n",
    "    df[\"usable_area\"] = df[\"usable_area\"].str.replace(\"ft²\", \"\").str.replace(\",\", \"\").astype(float)\n",
    "    df[\"gross_floor_area\"] = df[\"gross_floor_area\"].str.replace(\"ft²\", \"\").str.replace(\",\", \"\").astype(float)\n",
    "\n",
    "    # Create \"price_per_sq_foot\" columns\n",
    "    df[\"price_per_sq_foot_SA\"] = df[\"price\"] / df[\"usable_area\"]\n",
    "    df[\"price_per_sq_foot_GFA\"] = df[\"price\"] / df[\"gross_floor_area\"]\n",
    "\n",
    "    # Sort df by price per square foot using S.A. in ascending order, in case of ties, sort by GFA\n",
    "    # Reset the row index\n",
    "    df = df.sort_values(by=[\"price_per_sq_foot_SA\", \"price_per_sq_foot_GFA\"], ascending=True).reset_index(drop=True)\n",
    "    \n",
    "    return df"
   ]
  },
  {
   "cell_type": "code",
   "execution_count": 3,
   "metadata": {},
   "outputs": [
    {
     "data": {
      "text/html": [
       "<div>\n",
       "<style scoped>\n",
       "    .dataframe tbody tr th:only-of-type {\n",
       "        vertical-align: middle;\n",
       "    }\n",
       "\n",
       "    .dataframe tbody tr th {\n",
       "        vertical-align: top;\n",
       "    }\n",
       "\n",
       "    .dataframe thead th {\n",
       "        text-align: right;\n",
       "    }\n",
       "</style>\n",
       "<table border=\"1\" class=\"dataframe\">\n",
       "  <thead>\n",
       "    <tr style=\"text-align: right;\">\n",
       "      <th></th>\n",
       "      <th>name</th>\n",
       "      <th>room_numbers</th>\n",
       "      <th>address</th>\n",
       "      <th>price</th>\n",
       "      <th>usable_area</th>\n",
       "      <th>gross_floor_area</th>\n",
       "      <th>url</th>\n",
       "      <th>latitude</th>\n",
       "      <th>longitude</th>\n",
       "      <th>price_per_sq_foot_SA</th>\n",
       "      <th>price_per_sq_foot_GFA</th>\n",
       "    </tr>\n",
       "  </thead>\n",
       "  <tbody>\n",
       "    <tr>\n",
       "      <th>0</th>\n",
       "      <td>KING LAM ESTATE・KING LUI HOUSE (BLOCK 2)</td>\n",
       "      <td>Low Floor・FLAT 21・1 Room</td>\n",
       "      <td>Po Lam</td>\n",
       "      <td>1400000.0</td>\n",
       "      <td>349.0</td>\n",
       "      <td>NaN</td>\n",
       "      <td>https://hk.centanet.com/findproperty/en/detail...</td>\n",
       "      <td>22.323713</td>\n",
       "      <td>114.254880</td>\n",
       "      <td>4011.461318</td>\n",
       "      <td>NaN</td>\n",
       "    </tr>\n",
       "    <tr>\n",
       "      <th>1</th>\n",
       "      <td>TAK TIN ESTATE・TAK YEE HOUSE (BLOCK 3)</td>\n",
       "      <td>(1 Suite)</td>\n",
       "      <td>Lam Tin</td>\n",
       "      <td>1800000.0</td>\n",
       "      <td>443.0</td>\n",
       "      <td>NaN</td>\n",
       "      <td>https://hk.centanet.com/findproperty/en/detail...</td>\n",
       "      <td>22.308020</td>\n",
       "      <td>114.237564</td>\n",
       "      <td>4063.205418</td>\n",
       "      <td>NaN</td>\n",
       "    </tr>\n",
       "    <tr>\n",
       "      <th>2</th>\n",
       "      <td>FU SHIN ESTATE・SHIN KWAN HOUSE (BLOCK 1)</td>\n",
       "      <td>1 Room</td>\n",
       "      <td>Tai Po Town Centre</td>\n",
       "      <td>1200000.0</td>\n",
       "      <td>294.0</td>\n",
       "      <td>NaN</td>\n",
       "      <td>https://hk.centanet.com/findproperty/en/detail...</td>\n",
       "      <td>22.442322</td>\n",
       "      <td>114.165506</td>\n",
       "      <td>4081.632653</td>\n",
       "      <td>NaN</td>\n",
       "    </tr>\n",
       "    <tr>\n",
       "      <th>3</th>\n",
       "      <td>Long Ping Estate・HOR PING HOUSE</td>\n",
       "      <td>Low Floor・FLAT 35・2 Rooms</td>\n",
       "      <td>Long Ping</td>\n",
       "      <td>1480000.0</td>\n",
       "      <td>355.0</td>\n",
       "      <td>NaN</td>\n",
       "      <td>https://hk.centanet.com/findproperty/en/detail...</td>\n",
       "      <td>NaN</td>\n",
       "      <td>NaN</td>\n",
       "      <td>4169.014085</td>\n",
       "      <td>NaN</td>\n",
       "    </tr>\n",
       "    <tr>\n",
       "      <th>4</th>\n",
       "      <td>TAI WO ESTATE・OI WO HOUSE (BLOCK 2)</td>\n",
       "      <td>Studio</td>\n",
       "      <td>Tai Po Town Centre</td>\n",
       "      <td>1480000.0</td>\n",
       "      <td>349.0</td>\n",
       "      <td>NaN</td>\n",
       "      <td>https://hk.centanet.com/findproperty/en/detail...</td>\n",
       "      <td>22.442322</td>\n",
       "      <td>114.165506</td>\n",
       "      <td>4240.687679</td>\n",
       "      <td>NaN</td>\n",
       "    </tr>\n",
       "  </tbody>\n",
       "</table>\n",
       "</div>"
      ],
      "text/plain": [
       "                                       name               room_numbers  \\\n",
       "0  KING LAM ESTATE・KING LUI HOUSE (BLOCK 2)   Low Floor・FLAT 21・1 Room   \n",
       "1    TAK TIN ESTATE・TAK YEE HOUSE (BLOCK 3)                  (1 Suite)   \n",
       "2  FU SHIN ESTATE・SHIN KWAN HOUSE (BLOCK 1)                     1 Room   \n",
       "3           Long Ping Estate・HOR PING HOUSE  Low Floor・FLAT 35・2 Rooms   \n",
       "4       TAI WO ESTATE・OI WO HOUSE (BLOCK 2)                     Studio   \n",
       "\n",
       "              address      price  usable_area  gross_floor_area  \\\n",
       "0              Po Lam  1400000.0        349.0               NaN   \n",
       "1             Lam Tin  1800000.0        443.0               NaN   \n",
       "2  Tai Po Town Centre  1200000.0        294.0               NaN   \n",
       "3           Long Ping  1480000.0        355.0               NaN   \n",
       "4  Tai Po Town Centre  1480000.0        349.0               NaN   \n",
       "\n",
       "                                                 url   latitude   longitude  \\\n",
       "0  https://hk.centanet.com/findproperty/en/detail...  22.323713  114.254880   \n",
       "1  https://hk.centanet.com/findproperty/en/detail...  22.308020  114.237564   \n",
       "2  https://hk.centanet.com/findproperty/en/detail...  22.442322  114.165506   \n",
       "3  https://hk.centanet.com/findproperty/en/detail...        NaN         NaN   \n",
       "4  https://hk.centanet.com/findproperty/en/detail...  22.442322  114.165506   \n",
       "\n",
       "   price_per_sq_foot_SA  price_per_sq_foot_GFA  \n",
       "0           4011.461318                    NaN  \n",
       "1           4063.205418                    NaN  \n",
       "2           4081.632653                    NaN  \n",
       "3           4169.014085                    NaN  \n",
       "4           4240.687679                    NaN  "
      ]
     },
     "execution_count": 3,
     "metadata": {},
     "output_type": "execute_result"
    }
   ],
   "source": [
    "df = wrangle(\"data/hk-centaline-property-buy.csv\")\n",
    "df.head()"
   ]
  },
  {
   "cell_type": "code",
   "execution_count": 4,
   "metadata": {},
   "outputs": [
    {
     "name": "stdout",
     "output_type": "stream",
     "text": [
      "The most expensive per square foot house url: https://hk.centanet.com/findproperty/en/detail/BEL-AIR-RISE_TLA343?theme=buy\n",
      "The least expensive per square foot house url: https://hk.centanet.com/findproperty/en/detail/KING-LAM-ESTATE-KING-LUI-HOUSE-(BLOCK-2)_UDU107?theme=buy\n"
     ]
    }
   ],
   "source": [
    "# Most expensive per square foot house url: \n",
    "print(f\"The most expensive per square foot house url: {df.loc[9999,\"url\"]}\")\n",
    "\n",
    "# Least expensive per square foot house url:\n",
    "print(f\"The least expensive per square foot house url: {df.loc[0,\"url\"]}\")"
   ]
  },
  {
   "cell_type": "code",
   "execution_count": 5,
   "metadata": {},
   "outputs": [
    {
     "name": "stdout",
     "output_type": "stream",
     "text": [
      "<class 'pandas.core.frame.DataFrame'>\n",
      "RangeIndex: 10000 entries, 0 to 9999\n",
      "Data columns (total 11 columns):\n",
      " #   Column                 Non-Null Count  Dtype  \n",
      "---  ------                 --------------  -----  \n",
      " 0   name                   10000 non-null  object \n",
      " 1   room_numbers           9985 non-null   object \n",
      " 2   address                9996 non-null   object \n",
      " 3   price                  10000 non-null  float64\n",
      " 4   usable_area            10000 non-null  float64\n",
      " 5   gross_floor_area       6158 non-null   float64\n",
      " 6   url                    10000 non-null  object \n",
      " 7   latitude               8591 non-null   float64\n",
      " 8   longitude              8591 non-null   float64\n",
      " 9   price_per_sq_foot_SA   10000 non-null  float64\n",
      " 10  price_per_sq_foot_GFA  6158 non-null   float64\n",
      "dtypes: float64(7), object(4)\n",
      "memory usage: 859.5+ KB\n"
     ]
    },
    {
     "data": {
      "text/plain": [
       "(10000, 11)"
      ]
     },
     "execution_count": 5,
     "metadata": {},
     "output_type": "execute_result"
    }
   ],
   "source": [
    "df.info()\n",
    "df.shape"
   ]
  },
  {
   "cell_type": "code",
   "execution_count": 6,
   "metadata": {},
   "outputs": [],
   "source": [
    "# Save the cleaned df\n",
    "df.to_csv(\"data/hk-centaline-property-buy-clean.csv\", index=False)"
   ]
  }
 ],
 "metadata": {
  "kernelspec": {
   "display_name": "data_manipulation",
   "language": "python",
   "name": "python3"
  },
  "language_info": {
   "codemirror_mode": {
    "name": "ipython",
    "version": 3
   },
   "file_extension": ".py",
   "mimetype": "text/x-python",
   "name": "python",
   "nbconvert_exporter": "python",
   "pygments_lexer": "ipython3",
   "version": "3.12.4"
  }
 },
 "nbformat": 4,
 "nbformat_minor": 2
}
